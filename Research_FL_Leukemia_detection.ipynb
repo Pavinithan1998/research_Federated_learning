{
  "cells": [
    {
      "cell_type": "markdown",
      "metadata": {
        "id": "view-in-github",
        "colab_type": "text"
      },
      "source": [
        "<a href=\"https://colab.research.google.com/github/Pavinithan1998/research_Federated_learning/blob/main/Research_FL_Leukemia_detection.ipynb\" target=\"_parent\"><img src=\"https://colab.research.google.com/assets/colab-badge.svg\" alt=\"Open In Colab\"/></a>"
      ]
    },
    {
      "cell_type": "markdown",
      "source": [
        "## Enhancing Leukemia Prediction with Federated learning approach for Image classification"
      ],
      "metadata": {
        "id": "0ReMrOkPipRO"
      }
    },
    {
      "cell_type": "code",
      "source": [
        "!pip install --quiet --upgrade tensorflow-federated"
      ],
      "metadata": {
        "id": "5r-9p56DG8jI"
      },
      "execution_count": null,
      "outputs": []
    },
    {
      "cell_type": "code",
      "execution_count": null,
      "metadata": {
        "id": "Lsdk6pvJ7O_t"
      },
      "outputs": [],
      "source": [
        "!pip install imutils opencv-python scikit-learn matplotlib"
      ]
    },
    {
      "cell_type": "code",
      "execution_count": null,
      "metadata": {
        "id": "gs8TU98wSjsD"
      },
      "outputs": [],
      "source": [
        "!pip install --upgrade tensorflow"
      ]
    },
    {
      "cell_type": "code",
      "execution_count": null,
      "metadata": {
        "id": "MslhsvCWdj9h"
      },
      "outputs": [],
      "source": [
        "%load_ext tensorboard"
      ]
    },
    {
      "cell_type": "markdown",
      "source": [
        "### Import necessary libraries"
      ],
      "metadata": {
        "id": "1UZGY3UUijwE"
      }
    },
    {
      "cell_type": "code",
      "execution_count": null,
      "metadata": {
        "id": "mWR5BfOvSjpI"
      },
      "outputs": [],
      "source": [
        "import tensorflow_federated as tff\n",
        "import numpy as np\n",
        "import random\n",
        "import cv2\n",
        "import os\n",
        "from imutils import paths\n",
        "from sklearn.utils import shuffle\n",
        "from sklearn.metrics import accuracy_score\n",
        "import tensorflow as tf\n",
        "from tensorflow_federated import learning\n",
        "from tensorflow.keras.applications import DenseNet121\n",
        "from tensorflow.keras.layers import Dense, GlobalAveragePooling2D\n",
        "from tensorflow.keras.models import Model\n",
        "from tensorflow.keras.optimizers import SGD\n",
        "from tensorflow.keras import backend as K\n",
        "import re"
      ]
    },
    {
      "cell_type": "markdown",
      "source": [
        "### Data preprocessing and loading (Images are in \"WBC-Benign\" and \"WBC-Malignant\" format)"
      ],
      "metadata": {
        "id": "4lbFIYPkR3OW"
      }
    },
    {
      "cell_type": "code",
      "execution_count": null,
      "metadata": {
        "id": "nr6aLf8lTghn"
      },
      "outputs": [],
      "source": [
        "def load(paths):\n",
        "    data = []\n",
        "    labels = []\n",
        "    for (i, imgpath) in enumerate(paths):\n",
        "        image = cv2.imread(imgpath)\n",
        "        image = cv2.cvtColor(image, cv2.COLOR_BGR2RGB)\n",
        "        image = cv2.resize(image, (224, 224))\n",
        "\n",
        "        # Extract the label from the filename\n",
        "        if \"WBC-Benign\" in imgpath:\n",
        "            label = 0  # Healthy\n",
        "        elif \"WBC-Malignant\" in imgpath:\n",
        "            label = 1  # Unhealthy\n",
        "        else:\n",
        "            continue  # Skip images with unknown labels\n",
        "\n",
        "        data.append(image)\n",
        "        labels.append(label)\n",
        "    data = np.array(data, dtype=\"float\") / 255.0\n",
        "    return data, labels\n",
        "\n",
        "img_path = '/content/drive/MyDrive/research/dataset/Benign'\n",
        "image_paths = list(paths.list_images(img_path))\n",
        "image_list, label_list = load(image_paths)"
      ]
    },
    {
      "cell_type": "code",
      "execution_count": null,
      "metadata": {
        "id": "oV6S4D0jTge5"
      },
      "outputs": [],
      "source": [
        "from sklearn.preprocessing import LabelBinarizer\n",
        "lb = LabelBinarizer()\n",
        "label_list = lb.fit_transform(label_list)"
      ]
    },
    {
      "cell_type": "code",
      "source": [
        "label_list"
      ],
      "metadata": {
        "id": "xHonEMVPhf43",
        "colab": {
          "base_uri": "https://localhost:8080/"
        },
        "outputId": "ae42024f-0ebf-422b-de3b-85b72d33e085"
      },
      "execution_count": null,
      "outputs": [
        {
          "output_type": "execute_result",
          "data": {
            "text/plain": [
              "array([[1],\n",
              "       [1],\n",
              "       [0],\n",
              "       ...,\n",
              "       [0],\n",
              "       [0],\n",
              "       [1]])"
            ]
          },
          "metadata": {},
          "execution_count": 5
        }
      ]
    },
    {
      "cell_type": "markdown",
      "source": [
        "#### Split dataset  X_train, X_test, y_train, y_test\n",
        "\n"
      ],
      "metadata": {
        "id": "y-6v_Y-hSFc1"
      }
    },
    {
      "cell_type": "code",
      "execution_count": null,
      "metadata": {
        "id": "WFRuTONiUaEw"
      },
      "outputs": [],
      "source": [
        "from sklearn.model_selection import train_test_split\n",
        "X_train, X_test, y_train, y_test = train_test_split(image_list, label_list, test_size=0.1)"
      ]
    },
    {
      "cell_type": "code",
      "source": [
        "print(\"X_train shape:\", X_train.shape)\n",
        "print(\"X_test shape:\", X_test.shape)\n",
        "print(\"y_train shape:\", y_train.shape)\n",
        "print(\"y_test shape:\", y_test.shape)"
      ],
      "metadata": {
        "colab": {
          "base_uri": "https://localhost:8080/"
        },
        "id": "ThWaqf1thlOP",
        "outputId": "41d42026-941b-4886-e807-78c755f7d8cc"
      },
      "execution_count": null,
      "outputs": [
        {
          "output_type": "stream",
          "name": "stdout",
          "text": [
            "X_train shape: (1340, 224, 224, 3)\n",
            "X_test shape: (149, 224, 224, 3)\n",
            "y_train shape: (1340, 1)\n",
            "y_test shape: (149, 1)\n"
          ]
        }
      ]
    },
    {
      "cell_type": "markdown",
      "source": [
        "#### Create clients"
      ],
      "metadata": {
        "id": "1ksvSsY0SZRm"
      }
    },
    {
      "cell_type": "code",
      "execution_count": null,
      "metadata": {
        "id": "9qiDzqhPUaCI"
      },
      "outputs": [],
      "source": [
        "def create_clients(image_list, label_list, num_clients=10):\n",
        "    data_shards = np.array_split(image_list, num_clients)\n",
        "    label_shards = np.array_split(label_list, num_clients)\n",
        "    clients = {}\n",
        "    for i in range(num_clients):\n",
        "        client_name = f\"client_{i+1}\"\n",
        "        clients[client_name] = (data_shards[i], label_shards[i])\n",
        "    return clients\n",
        "\n",
        "clients = create_clients(X_train, y_train, num_clients=10)"
      ]
    },
    {
      "cell_type": "markdown",
      "source": [
        "#### Define a function to create a DenseNet121 model\n",
        "\n",
        " In some cases, batch normalization may significantly improve training stability and performance. In other cases, especially in some specialized architectures or transfer learning scenarios, batch normalization might not be used to better suit the specific requirements of the task."
      ],
      "metadata": {
        "id": "xNo9q20OSe6W"
      }
    },
    {
      "cell_type": "markdown",
      "source": [
        "##### **DenseNet121 Without top layers**"
      ],
      "metadata": {
        "id": "zeYEAGcmtcTa"
      }
    },
    {
      "cell_type": "code",
      "execution_count": null,
      "metadata": {
        "id": "yjVV9d15UZ_Q",
        "colab": {
          "base_uri": "https://localhost:8080/"
        },
        "outputId": "6b9b6b28-b582-400e-b912-b79613986a89"
      },
      "outputs": [
        {
          "output_type": "stream",
          "name": "stdout",
          "text": [
            "Downloading data from https://storage.googleapis.com/tensorflow/keras-applications/densenet/densenet121_weights_tf_dim_ordering_tf_kernels_notop.h5\n",
            "29084464/29084464 [==============================] - 1s 0us/step\n"
          ]
        }
      ],
      "source": [
        "def create_densenet_model():\n",
        "  \"\"\"Creates a DenseNet model without batch normalization layers.\"\"\"\n",
        "  base_model = tf.keras.applications.DenseNet121(weights='imagenet',\n",
        "                                                 include_top=False)\n",
        "  x = base_model.output\n",
        "  x = tf.keras.layers.GlobalAveragePooling2D()(x)\n",
        "  x = tf.keras.layers.Dense(1024, activation='relu')(x)\n",
        "  predictions = tf.keras.layers.Dense(1, activation='sigmoid')(x)\n",
        "  model = tf.keras.Model(inputs=base_model.input, outputs=predictions)\n",
        "  return model\n",
        "\n",
        "# Create a global server model\n",
        "server_model = create_densenet_model()"
      ]
    },
    {
      "cell_type": "markdown",
      "source": [
        "##### **DenseNet-201 model without the top**"
      ],
      "metadata": {
        "id": "qFtB6FMetzmq"
      }
    },
    {
      "cell_type": "code",
      "source": [
        "def create_densenet_201_model():\n",
        "    input_shape=(224, 224, 3)\n",
        "    # Load the pre-trained DenseNet-201 model without the top (classification) layer\n",
        "    base_model = tf.keras.applications.DenseNet201(weights='imagenet', include_top=False, input_shape=input_shape)\n",
        "\n",
        "    # Adding custom top layer for your specific task\n",
        "    x = base_model.output\n",
        "    x = tf.keras.layers.GlobalAveragePooling2D()(x)\n",
        "    x = tf.keras.layers.Dense(1024, activation='relu')(x)\n",
        "    predictions = tf.keras.layers.Dense(1, activation='sigmoid')(x)\n",
        "\n",
        "    # Create the final model\n",
        "    model = tf.keras.Model(inputs=base_model.input, outputs=predictions)\n",
        "\n",
        "    return model\n",
        "\n",
        "# Create a global server model based on DenseNet-201\n",
        "server_model = create_densenet_201_model()\n"
      ],
      "metadata": {
        "id": "7_uEUnn1god-"
      },
      "execution_count": null,
      "outputs": []
    },
    {
      "cell_type": "markdown",
      "source": [
        "#### Define a function to create a resNet152 model"
      ],
      "metadata": {
        "id": "9hREUyA4fqQz"
      }
    },
    {
      "cell_type": "code",
      "source": [
        "def create_resnet_152_model():\n",
        "    input_shape=(224, 224, 3)\n",
        "    # Load the pre-trained ResNet-152 model without the top (classification) layer\n",
        "    base_model = tf.keras.applications.ResNet152(weights='imagenet', include_top=False, input_shape=input_shape)\n",
        "\n",
        "    # Add your custom top layer for your specific task\n",
        "    x = base_model.output\n",
        "    x = tf.keras.layers.GlobalAveragePooling2D()(x)\n",
        "    x = tf.keras.layers.Dense(1024, activation='relu')(x)\n",
        "    predictions = tf.keras.layers.Dense(1, activation='sigmoid')(x)\n",
        "\n",
        "    # Create the final model\n",
        "    model = tf.keras.Model(inputs=base_model.input, outputs=predictions)\n",
        "\n",
        "    return model\n",
        "\n",
        "# Create a global server model based on ResNet-152\n",
        "server_model = create_resnet_152_model()"
      ],
      "metadata": {
        "colab": {
          "base_uri": "https://localhost:8080/"
        },
        "id": "i14nc45yfo9N",
        "outputId": "edf1865d-6f83-4598-9040-a75b6548c4b9"
      },
      "execution_count": null,
      "outputs": [
        {
          "output_type": "stream",
          "name": "stdout",
          "text": [
            "Downloading data from https://storage.googleapis.com/tensorflow/keras-applications/resnet/resnet152_weights_tf_dim_ordering_tf_kernels_notop.h5\n",
            "234698864/234698864 [==============================] - 7s 0us/step\n"
          ]
        }
      ]
    },
    {
      "cell_type": "code",
      "source": [
        "def create_resnet_50_model():\n",
        "    input_shape=(224, 224, 3)\n",
        "    # Load the pre-trained ResNet-50 model without the top (classification) layer\n",
        "    base_model = tf.keras.applications.ResNet50(weights='imagenet', include_top=False, input_shape=input_shape)\n",
        "\n",
        "    # Add your custom top layer for your specific task\n",
        "    x = base_model.output\n",
        "    x = tf.keras.layers.GlobalAveragePooling2D()(x)\n",
        "    x = tf.keras.layers.Dense(1024, activation='relu')(x)\n",
        "    predictions = tf.keras.layers.Dense(1, activation='sigmoid')(x)\n",
        "\n",
        "    # Create the final model\n",
        "    model = tf.keras.Model(inputs=base_model.input, outputs=predictions)\n",
        "\n",
        "    return model\n",
        "\n",
        "# Create a global server model based on ResNet-50\n",
        "server_model = create_resnet_50_model()"
      ],
      "metadata": {
        "colab": {
          "base_uri": "https://localhost:8080/"
        },
        "id": "KZ_PTsUvAANv",
        "outputId": "57dda130-8dc4-4647-ef09-bee65b287e77"
      },
      "execution_count": null,
      "outputs": [
        {
          "output_type": "stream",
          "name": "stdout",
          "text": [
            "Downloading data from https://storage.googleapis.com/tensorflow/keras-applications/resnet/resnet50_weights_tf_dim_ordering_tf_kernels_notop.h5\n",
            "94765736/94765736 [==============================] - 1s 0us/step\n"
          ]
        }
      ]
    },
    {
      "cell_type": "code",
      "source": [
        "# Create a federated computation for server aggregation\n",
        "@tff.tf_computation\n",
        "def server_aggregate(model_weights, client_weights, client_sizes):\n",
        "    weighted_averages = [model_weight * tf.cast(client_size, tf.float32) for model_weight, client_size in zip(client_weights, client_sizes)]\n",
        "    sum_weights = tf.add_n(weighted_averages)\n",
        "    return [w / tf.cast(sum_weights, tf.float32) for w in model_weights]\n",
        "\n",
        "@tff.federated_computation\n",
        "def federated_averaging(server_model, client_models, client_sizes):\n",
        "    return tff.federated_map(server_aggregate, (tff.federated_broadcast(server_model), client_models, client_sizes))"
      ],
      "metadata": {
        "id": "i99-rg4q-fQz"
      },
      "execution_count": null,
      "outputs": []
    },
    {
      "cell_type": "code",
      "execution_count": null,
      "metadata": {
        "id": "qkLEt3HYUZ00"
      },
      "outputs": [],
      "source": [
        "# Import the legacy optimizer\n",
        "from tensorflow.keras.optimizers.legacy import SGD"
      ]
    },
    {
      "cell_type": "code",
      "source": [
        "# Federated Learning Loop\n",
        "lr = 0.01\n",
        "update_rounds = 5\n",
        "learning_rate = lr\n",
        "loss = 'binary_crossentropy'\n",
        "metrics = ['accuracy']\n",
        "optimizer = SGD(learning_rate=learning_rate, momentum=0.9, nesterov=False)"
      ],
      "metadata": {
        "id": "IBhH4Z5LuJ7o"
      },
      "execution_count": null,
      "outputs": []
    },
    {
      "cell_type": "code",
      "execution_count": null,
      "metadata": {
        "id": "rEBrLgyzVy7Y"
      },
      "outputs": [],
      "source": [
        "import matplotlib.pyplot as plt\n",
        "\n",
        "# Lists to store accuracy values\n",
        "rounds = []\n",
        "accuracies = []\n",
        "server_losses= []"
      ]
    },
    {
      "cell_type": "markdown",
      "source": [
        "#### Fedeated Averaging algorithm"
      ],
      "metadata": {
        "id": "ofBGY4gwSv9m"
      }
    },
    {
      "cell_type": "code",
      "source": [
        "def federated_agerage(local_models):\n",
        "  # Use federated averaging to aggregate the local models\n",
        "  aggregated_weights = [model.get_weights() for model in local_models]\n",
        "\n",
        "  # Calculate the mean of the aggregated weights for each layer\n",
        "  global_weights = []\n",
        "  for layer_weights_list in zip(*aggregated_weights):\n",
        "      # Calculate the mean for each layer's weights\n",
        "      layer_mean = np.mean(layer_weights_list, axis=0)\n",
        "      global_weights.append(layer_mean)\n",
        "\n",
        "\n",
        "  # Set the global model's weights to the aggregated global weights\n",
        "  server_model.set_weights(global_weights)\n",
        "  return server_model"
      ],
      "metadata": {
        "id": "1yF-ZiOiyCNP"
      },
      "execution_count": null,
      "outputs": []
    },
    {
      "cell_type": "markdown",
      "source": [
        "###Training process - Simulation for denseNet121"
      ],
      "metadata": {
        "id": "1EfYoaMjS2Le"
      }
    },
    {
      "cell_type": "code",
      "source": [
        "for update_round in range(update_rounds):\n",
        "    # Randomize the order of client names for better privacy\n",
        "    client_names = list(clients.keys())\n",
        "    random.shuffle(client_names)\n",
        "\n",
        "    local_models = []\n",
        "\n",
        "    for client_name in client_names:\n",
        "        data = clients[client_name]\n",
        "\n",
        "        # Create a local model for the client\n",
        "        local_model = create_densenet_model()\n",
        "\n",
        "        # Compile the local model with the loss, optimizer, and metrics\n",
        "        local_model.compile(loss=loss, optimizer=optimizer, metrics=metrics)\n",
        "\n",
        "        # Set the local model's weights to the current global weights\n",
        "        local_model.set_weights(server_model.get_weights())\n",
        "\n",
        "        # Extract data from the federated dataset\n",
        "        # X_client, y_client = zip(*data)\n",
        "        # X_client, y_client = np.array(X_client), np.array(y_client)\n",
        "        X_client, y_client = np.array(data[0]), np.array(data[1])\n",
        "\n",
        "        # Train the local model on the client's data and the current global model\n",
        "        local_model.fit(X_client, y_client, epochs=1, batch_size=32)\n",
        "\n",
        "        local_models.append(local_model)\n",
        "\n",
        "        # Clear the Keras session to release memory\n",
        "        K.clear_session()\n",
        "\n",
        "    # # Use federated averaging to aggregate the local models\n",
        "    # aggregated_weights = [tf.convert_to_tensor(model.get_weights()) for model in local_models]\n",
        "\n",
        "    # # Calculate the mean of the aggregated weights\n",
        "    # global_weights = [tf.reduce_mean(aggregated_weights, axis=0).numpy()]\n",
        "\n",
        "    # # Set the global model's weights to the aggregated global weights\n",
        "    # server_model.set_weights(global_weights[0])\n",
        "    server_model = federated_agerage(local_models)\n",
        "\n",
        "    # Evaluate the global model\n",
        "    server_model.compile(loss=loss, optimizer=optimizer, metrics=metrics)\n",
        "    global_acc = server_model.evaluate(X_test, y_test, verbose=0)[1]\n",
        "\n",
        "    # Append accuracy values to the lists\n",
        "    rounds.append(update_round + 1)\n",
        "    accuracies.append(global_acc)\n",
        "\n",
        "    print(f'Update Round: {update_round + 1} | Global Accuracy: {global_acc * 100:.2f}%')\n"
      ],
      "metadata": {
        "id": "AsPOh43qiw73",
        "colab": {
          "base_uri": "https://localhost:8080/",
          "height": 245
        },
        "outputId": "9a8e948a-9856-4625-aefc-11bbdd5075b0"
      },
      "execution_count": null,
      "outputs": [
        {
          "output_type": "error",
          "ename": "NameError",
          "evalue": "ignored",
          "traceback": [
            "\u001b[0;31m---------------------------------------------------------------------------\u001b[0m",
            "\u001b[0;31mNameError\u001b[0m                                 Traceback (most recent call last)",
            "\u001b[0;32m<ipython-input-14-34b85da73c90>\u001b[0m in \u001b[0;36m<cell line: 1>\u001b[0;34m()\u001b[0m\n\u001b[1;32m     10\u001b[0m \u001b[0;34m\u001b[0m\u001b[0m\n\u001b[1;32m     11\u001b[0m         \u001b[0;31m# Create a local model for the client\u001b[0m\u001b[0;34m\u001b[0m\u001b[0;34m\u001b[0m\u001b[0m\n\u001b[0;32m---> 12\u001b[0;31m         \u001b[0mlocal_model\u001b[0m \u001b[0;34m=\u001b[0m \u001b[0mcreate_resnet_152_model\u001b[0m\u001b[0;34m(\u001b[0m\u001b[0;34m)\u001b[0m\u001b[0;34m\u001b[0m\u001b[0;34m\u001b[0m\u001b[0m\n\u001b[0m\u001b[1;32m     13\u001b[0m \u001b[0;34m\u001b[0m\u001b[0m\n\u001b[1;32m     14\u001b[0m         \u001b[0;31m# Compile the local model with the loss, optimizer, and metrics\u001b[0m\u001b[0;34m\u001b[0m\u001b[0;34m\u001b[0m\u001b[0m\n",
            "\u001b[0;31mNameError\u001b[0m: name 'create_resnet_152_model' is not defined"
          ]
        }
      ]
    },
    {
      "cell_type": "markdown",
      "source": [
        "#### Test the final global model"
      ],
      "metadata": {
        "id": "eezzsADqnPHm"
      }
    },
    {
      "cell_type": "code",
      "source": [
        "# Test the final global model\n",
        "final_global_acc = server_model.evaluate(X_test, y_test, verbose=0)[1]\n",
        "print(f'Final Global Accuracy: {final_global_acc * 100:.2f}%')"
      ],
      "metadata": {
        "id": "KzBTJ5nzlmeo",
        "colab": {
          "base_uri": "https://localhost:8080/"
        },
        "outputId": "9f7078ac-2053-418b-a79a-950e5d67e0df"
      },
      "execution_count": null,
      "outputs": [
        {
          "output_type": "stream",
          "name": "stdout",
          "text": [
            "Final Global Accuracy: 76.51%\n"
          ]
        }
      ]
    },
    {
      "cell_type": "markdown",
      "source": [
        "#### Plot the global model accuracy values through epochs"
      ],
      "metadata": {
        "id": "jSn_uwribu9k"
      }
    },
    {
      "cell_type": "code",
      "execution_count": null,
      "metadata": {
        "id": "mWDAQcOAUZs5",
        "colab": {
          "base_uri": "https://localhost:8080/",
          "height": 472
        },
        "outputId": "d117918b-572e-474a-d857-e4b7fde962fe"
      },
      "outputs": [
        {
          "output_type": "display_data",
          "data": {
            "text/plain": [
              "<Figure size 640x480 with 1 Axes>"
            ],
            "image/png": "[encoded data removed]"
          },
          "metadata": {}
        }
      ],
      "source": [
        "plt.plot(rounds, accuracies)\n",
        "plt.title('Global Model Accuracy Over Rounds')\n",
        "plt.xlabel('Round')\n",
        "plt.ylabel('Accuracy')\n",
        "plt.show()"
      ]
    },
    {
      "cell_type": "markdown",
      "source": [
        "#### Save the entire model to a directory"
      ],
      "metadata": {
        "id": "uOhtG1GGbg9U"
      }
    },
    {
      "cell_type": "code",
      "source": [
        "server_model.save(\"/content/drive/MyDrive/research/model/model1_10_epoch_densenet121_FedAVG\")"
      ],
      "metadata": {
        "id": "Iftb3vF5VIEe"
      },
      "execution_count": null,
      "outputs": []
    },
    {
      "cell_type": "code",
      "source": [
        "import tensorflow as tf\n",
        "import cv2\n",
        "import numpy as np\n",
        "\n",
        "# Load the model\n",
        "loaded_model = tf.keras.models.load_model(\"/content/drive/MyDrive/research/model/model1_5epoch_densenet121_FedAVG\")"
      ],
      "metadata": {
        "id": "AuRzUIIxYB4h"
      },
      "execution_count": null,
      "outputs": []
    },
    {
      "cell_type": "code",
      "source": [
        "# Function to preprocess an image\n",
        "def preprocess_image(image_path):\n",
        "    # Load and preprocess the image\n",
        "    image = cv2.imread(image_path)\n",
        "    image = cv2.resize(image, (224, 224))  # Resize the image to match the input size used during training\n",
        "    image = image / 255.0  # Normalize the pixel values (assuming values are in the range [0, 255])\n",
        "    return image\n",
        "\n",
        "# Example image file paths (change to your actual file paths)\n",
        "image_file_positive = \"/content/drive/MyDrive/research/dataset/Benign/WBC-Benign-001.jpg\"\n",
        "image_file_negative = \"/content/drive/MyDrive/research/dataset/Benign/WBC-Malignant-Early-180.jpg\"\n",
        "\n",
        "# Preprocess the images\n",
        "image_positive = preprocess_image(image_file_positive)\n",
        "image_negative = preprocess_image(image_file_negative)\n",
        "\n",
        "# Make predictions using the loaded model\n",
        "# You can use a list of images for batch predictions\n",
        "predictions_positive = loaded_model.predict(np.expand_dims(image_positive, axis=0))\n",
        "predictions_negative = loaded_model.predict(np.expand_dims(image_negative, axis=0))\n",
        "\n",
        "# The predictions will be in the form of probabilities\n",
        "# You can use a threshold to classify them as positive or negative\n",
        "threshold = 0.5\n",
        "class_positive = \"Malignant\" if predictions_positive > threshold else \"Benign\"\n",
        "class_negative = \"Malignant\" if predictions_negative > threshold else \"Benign\"\n",
        "\n",
        "print(f\"Image 1 (Positive) class: {class_positive} (Probability: {predictions_positive[0][0]})\")\n",
        "print(f\"Image 2 (Negative) class: {class_negative} (Probability: {predictions_negative[0][0]})\")\n",
        "\n"
      ],
      "metadata": {
        "colab": {
          "base_uri": "https://localhost:8080/"
        },
        "id": "krAxelBMWq3I",
        "outputId": "0313fea5-72a5-46f4-c883-64d954a58887"
      },
      "execution_count": null,
      "outputs": [
        {
          "output_type": "stream",
          "name": "stdout",
          "text": [
            "1/1 [==============================] - 9s 9s/step\n",
            "1/1 [==============================] - 0s 35ms/step\n",
            "Image 1 (Positive) class: Malignant (Probability: 0.5420398116111755)\n",
            "Image 2 (Negative) class: Malignant (Probability: 0.7941195368766785)\n"
          ]
        }
      ]
    },
    {
      "cell_type": "code",
      "execution_count": null,
      "metadata": {
        "id": "AP6dkXz1UZyR"
      },
      "outputs": [],
      "source": [
        "# for update_round in range(update_rounds):\n",
        "#     global_weights = server_model.get_weights()\n",
        "#     client_names = list(clients.keys())\n",
        "#     random.shuffle(client_names)\n",
        "\n",
        "#     local_models = []\n",
        "\n",
        "#     for client_name in client_names:\n",
        "#         data, labels = clients[client_name]\n",
        "#         local_model = create_densenet_model()\n",
        "#         local_model.compile(loss=loss, optimizer=optimizer, metrics=metrics)\n",
        "#         local_model.set_weights(global_weights)\n",
        "\n",
        "#         local_model.fit(data, labels, epochs=1, batch_size=32)\n",
        "\n",
        "#         scaling_factor = len(data) / len(X_train)\n",
        "#         scaled_weights = [w * scaling_factor for w in local_model.get_weights()]\n",
        "#         local_models.append(scaled_weights)\n",
        "\n",
        "#         K.clear_session()\n",
        "\n",
        "#     aggregation_result = federated_averaging(server_model, local_models, [len(data) for data, _ in clients.values()])\n",
        "#     global_weights = aggregation_result\n",
        "\n",
        "#     server_model.assign_weights(global_weights)\n",
        "\n",
        "#     # Evaluate the global model\n",
        "#     server_model.compile(loss=loss, optimizer=optimizer, metrics=metrics)\n",
        "#     global_acc = server_model.evaluate(X_test, y_test, verbose=0)[1]\n",
        "\n",
        "#     # Append accuracy values to the lists\n",
        "#     rounds.append(update_round + 1)\n",
        "#     accuracies.append(global_acc)\n",
        "\n",
        "#     print(f'Update Round: {update_round + 1} | Global Accuracy: {global_acc * 100:.2f}%')\n"
      ]
    }
  ],
  "metadata": {
    "colab": {
      "provenance": [],
      "gpuType": "V100",
      "mount_file_id": "1p0_GeCUGCf2ZlH5mj7zOxZcPAnJN-QS0",
      "authorship_tag": "ABX9TyPdwYBD05hjUJhfG+ivtb+Y",
      "include_colab_link": true
    },
    "kernelspec": {
      "display_name": "Python 3",
      "name": "python3"
    },
    "language_info": {
      "name": "python"
    },
    "accelerator": "GPU"
  },
  "nbformat": 4,
  "nbformat_minor": 0
}